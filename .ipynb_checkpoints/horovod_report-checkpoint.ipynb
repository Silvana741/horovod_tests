{
 "cells": [
  {
   "cell_type": "markdown",
   "id": "8894cb77-d942-47e3-a29d-3b37aee4dce4",
   "metadata": {},
   "source": [
    "### Running the file `test_horovod.py`"
   ]
  },
  {
   "cell_type": "markdown",
   "id": "235bf088-95af-4a70-831d-a5883b9b2cf8",
   "metadata": {},
   "source": [
    "2024-12-07 17:09:29.275473: I tensorflow/core/platform/cpu_feature_guard.cc:182] This TensorFlow binary is optimized to use available CPU instructions in performance-critical operations.\n",
    "To enable the following instructions: AVX2 AVX512F FMA, in other operations, rebuild TensorFlow with the appropriate compiler flags.\n",
    "2024-12-07 17:09:30.247960: W tensorflow/compiler/tf2tensorrt/utils/py_utils.cc:38] TF-TRT Warning: Could not find TensorRT\n",
    "List of TF visible physical GPUs :  [PhysicalDevice(name='/physical_device:GPU:0', device_type='GPU')]\n",
    "MPI_size = 1, MPI_rank = 0, MPI_local_size = 1,  MPI_local_rank = 0 platform = iris-191"
   ]
  },
  {
   "cell_type": "markdown",
   "id": "46b2abbe-708c-4cf0-90f5-7bdbeec36820",
   "metadata": {},
   "source": [
    "I got this warning message every time I try to run horovod and I checked what it is related with and this is the answer I got: An important part of Tensorflow is that it is supposed to be fast. With a suitable installation, it works with CPUs, GPUs, or TPUs. Part of going fast means that it uses different code depending on your hardware. Some CPUs support operations that other CPUs do not, such as vectorized addition (adding multiple variables at once). Tensorflow is simply telling you that the version you have installed can use the AVX and AVX2 operations and is set to do so by default in certain situations (say inside a forward or back-prop matrix multiply), which can speed things up. This is not an error, it is just telling you that it can and will take advantage of your CPU to get that extra speed out.\n",
    "\n",
    "Note: AVX stands for Advanced Vector Extensions."
   ]
  },
  {
   "cell_type": "markdown",
   "id": "f84188f3-cd00-41c7-9686-a3b01a2c11b9",
   "metadata": {},
   "source": [
    "### Running the file `tensorflow_horovod.py`"
   ]
  },
  {
   "cell_type": "markdown",
   "id": "98531044-c294-4dac-8ed4-70afd7cddda3",
   "metadata": {},
   "source": [
    "2024-12-07 17:09:29.275473: I tensorflow/core/platform/cpu_feature_guard.cc:182] This TensorFlow binary is optimized to use available CPU instructions in performance-critical operations.\n",
    "To enable the following instructions: AVX2 AVX512F FMA, in other operations, rebuild TensorFlow with the appropriate compiler flags.\n",
    "2024-12-07 17:09:30.247960: W tensorflow/compiler/tf2tensorrt/utils/py_utils.cc:38] TF-TRT Warning: Could not find TensorRT\n",
    "List of TF visible physical GPUs :  [PhysicalDevice(name='/physical_device:GPU:0', device_type='GPU')]\n",
    "MPI_size = 1, MPI_rank = 0, MPI_local_size = 1,  MPI_local_rank = 0 platform = iris-191\n",
    "(base) 0 [sbelegu@iris-191 horovod_tests](3722494 1N/T/1CN)$ python tensorflow_horovod.py\n",
    "Downloading data from https://www.cs.toronto.edu/~kriz/cifar-10-python.tar.gz\n",
    "170498071/170498071 [==============================] - 12s 0us/step\n",
    "Train Images array:  (50000, 32, 32, 3)\n",
    "Train Labels array:  (50000, 1)\n",
    "Test Images array:  (10000, 32, 32, 3)\n",
    "Test Labels array:  (10000, 1)\n",
    "Epoch 1/4\n",
    "\n",
    "390/390 - 206s - loss: 1.5789 - 206s/epoch - 527ms/step\n",
    "\n",
    "\n",
    "Epoch 2/4\n",
    "\n",
    "390/390 - 157s - loss: 1.0176 - 157s/epoch - 403ms/step\n",
    "\n",
    "\n",
    "Epoch 3/4\n",
    "\n",
    "390/390 - 157s - loss: 0.7758 - 157s/epoch - 403ms/step\n",
    "\n",
    "\n",
    "Epoch 4/4\n",
    "\n",
    "390/390 - 157s - loss: 0.6006 - 157s/epoch - 403ms/step\n",
    "\n",
    "\n",
    "Loss:  1.5299328565597534  accuracy:  0.5862379670143127"
   ]
  },
  {
   "cell_type": "markdown",
   "id": "be5e7b94-76e5-4633-9380-8e42312e2346",
   "metadata": {},
   "source": [
    "toDo:\n",
    "1. run the pytorch_horovod.py file and see the results\n",
    "2. Study the structure of tensorflow_horovod.py and change the model to your desired model\n",
    "3. Test the tensorflow_horovod code with multiple nodes (make a script to automatize the process)\n",
    "4. Collect and analyze the results for tensorflow (change batch size and other parameters that are mentioned).\n",
    "5. Add comments on the structure of pytorch script and update the model with the same that you used for tensorflow.\n",
    "6. Automatize the scalability benchmarking with a script and collect the results.\n",
    "7. Analyze the results. "
   ]
  },
  {
   "cell_type": "code",
   "execution_count": null,
   "id": "8feecf14-d4a8-452d-9585-1cff46bc9aa9",
   "metadata": {},
   "outputs": [],
   "source": []
  }
 ],
 "metadata": {
  "kernelspec": {
   "display_name": "Python 3 (ipykernel)",
   "language": "python",
   "name": "python3"
  },
  "language_info": {
   "codemirror_mode": {
    "name": "ipython",
    "version": 3
   },
   "file_extension": ".py",
   "mimetype": "text/x-python",
   "name": "python",
   "nbconvert_exporter": "python",
   "pygments_lexer": "ipython3",
   "version": "3.9.20"
  }
 },
 "nbformat": 4,
 "nbformat_minor": 5
}
